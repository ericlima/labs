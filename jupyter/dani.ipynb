{
 "cells": [
  {
   "cell_type": "markdown",
   "metadata": {},
   "source": [
    "# Imports para Spark"
   ]
  },
  {
   "cell_type": "code",
   "execution_count": 1,
   "metadata": {},
   "outputs": [],
   "source": [
    "from pyspark.sql import HiveContext\n",
    "from pyspark.sql.types import *"
   ]
  },
  {
   "cell_type": "markdown",
   "metadata": {},
   "source": [
    "# Operações HDFS "
   ]
  },
  {
   "cell_type": "code",
   "execution_count": 4,
   "metadata": {},
   "outputs": [
    {
     "name": "stdout",
     "output_type": "stream",
     "text": [
      "Found 4 items\r\n",
      "-rw-r--r--   2 root supergroup   62492959 2021-07-11 19:09 /datasus/HIST_PAINEL_COVIDBR_2020_Parte1_06jul2021.csv\r\n",
      "-rw-r--r--   2 root supergroup   76520681 2021-07-11 19:10 /datasus/HIST_PAINEL_COVIDBR_2020_Parte2_06jul2021.csv\r\n",
      "-rw-r--r--   2 root supergroup   91120916 2021-07-11 19:10 /datasus/HIST_PAINEL_COVIDBR_2021_Parte1_06jul2021.csv\r\n",
      "-rw-r--r--   2 root supergroup    3046774 2021-07-11 19:10 /datasus/HIST_PAINEL_COVIDBR_2021_Parte2_06jul2021.csv\r\n"
     ]
    }
   ],
   "source": [
    "!hdfs dfs -ls /datasus"
   ]
  },
  {
   "cell_type": "code",
   "execution_count": null,
   "metadata": {},
   "outputs": [],
   "source": [
    "!hdfs dfs -copyFromLocal /input/*.csv /datasus/"
   ]
  },
  {
   "cell_type": "code",
   "execution_count": null,
   "metadata": {},
   "outputs": [],
   "source": [
    "!hdfs dfs -rm /datasus/*.csv"
   ]
  },
  {
   "cell_type": "code",
   "execution_count": 3,
   "metadata": {},
   "outputs": [
    {
     "name": "stdout",
     "output_type": "stream",
     "text": [
      "Deleted /datasus/covid19_particionada_codmun2\n",
      "Deleted /datasus/covid19_particionada_codmun3\n"
     ]
    }
   ],
   "source": [
    "!hdfs dfs -rm -R /datasus/covid19_*"
   ]
  },
  {
   "cell_type": "code",
   "execution_count": null,
   "metadata": {},
   "outputs": [],
   "source": [
    "!hdfs dfs -rm -R /user/hive/warehouse/covid19_particionada_codmun/*"
   ]
  },
  {
   "cell_type": "markdown",
   "metadata": {},
   "source": [
    "# Spark context"
   ]
  },
  {
   "cell_type": "code",
   "execution_count": 1,
   "metadata": {},
   "outputs": [
    {
     "name": "stdout",
     "output_type": "stream",
     "text": [
      "+--------+---------+-----------+\n",
      "|database|tableName|isTemporary|\n",
      "+--------+---------+-----------+\n",
      "| default|  covid19|      false|\n",
      "+--------+---------+-----------+\n",
      "\n"
     ]
    }
   ],
   "source": [
    "spark.sql(\"show tables\").show()"
   ]
  },
  {
   "cell_type": "code",
   "execution_count": null,
   "metadata": {},
   "outputs": [],
   "source": [
    "sc = spark.sparkContext"
   ]
  },
  {
   "cell_type": "code",
   "execution_count": null,
   "metadata": {},
   "outputs": [],
   "source": [
    "sqlContext = HiveContext(sc)"
   ]
  },
  {
   "cell_type": "markdown",
   "metadata": {},
   "source": [
    "df = spark.read.csv(\"/datasus/HIST_PAINEL_COVIDBR_2020_Parte1_06jul2021.csv\", header=\"true\", sep=\";\", quote=\"\\'\", inferSchema=True)\n",
    "\n",
    "df = spark.read.csv(\"/datasus/HIST_PAINEL_COVIDBR_2020_Parte2_06jul2021.csv\", header=\"true\", sep=\";\", quote=\"\\'\", inferSchema=True)\n",
    "\n",
    "df = spark.read.csv(\"/datasus/HIST_PAINEL_COVIDBR_2021_Parte1_06jul2021.csv\", header=\"true\", sep=\";\", quote=\"\\'\", inferSchema=True)\n",
    "\n",
    "df = spark.read.csv(\"/datasus/HIST_PAINEL_COVIDBR_2021_Parte2_06jul2021.csv\", header=\"true\", sep=\";\", quote=\"\\'\", inferSchema=True)"
   ]
  },
  {
   "cell_type": "code",
   "execution_count": null,
   "metadata": {},
   "outputs": [],
   "source": [
    "df = spark.read.csv(\"/datasus/\", header=\"true\", sep=\";\", quote=\"\\'\", inferSchema=True)"
   ]
  },
  {
   "cell_type": "code",
   "execution_count": 2,
   "metadata": {},
   "outputs": [],
   "source": [
    "df = spark.read.table('covid19')"
   ]
  },
  {
   "cell_type": "code",
   "execution_count": 3,
   "metadata": {},
   "outputs": [
    {
     "data": {
      "text/plain": [
       "714482"
      ]
     },
     "execution_count": 3,
     "metadata": {},
     "output_type": "execute_result"
    }
   ],
   "source": [
    "df.count()"
   ]
  },
  {
   "cell_type": "code",
   "execution_count": 5,
   "metadata": {},
   "outputs": [
    {
     "name": "stdout",
     "output_type": "stream",
     "text": [
      "-RECORD 0---------------------------------------\n",
      " regiao                | regiao                 \n",
      " estado                | estado                 \n",
      " municipio             | municipio              \n",
      " coduf                 | null                   \n",
      " codmun                | null                   \n",
      " codregiaosaude        | null                   \n",
      " nomeregiaosaude       | nomeRegiaoSaude        \n",
      " data                  | data                   \n",
      " semanaepi             | null                   \n",
      " populacaotcu2019      | null                   \n",
      " casosacumulado        | null                   \n",
      " casosnovos            | null                   \n",
      " obitosacumulado       | null                   \n",
      " obitosnovos           | null                   \n",
      " recuperadosnovos      | null                   \n",
      " emacompanhamentonovos | null                   \n",
      " interiormetropolitana | interior/metropolitana \n",
      "-RECORD 1---------------------------------------\n",
      " regiao                | Brasil                 \n",
      " estado                |                        \n",
      " municipio             |                        \n",
      " coduf                 | 76                     \n",
      " codmun                | null                   \n",
      " codregiaosaude        | null                   \n",
      " nomeregiaosaude       |                        \n",
      " data                  | 2020-02-25             \n",
      " semanaepi             | 9                      \n",
      " populacaotcu2019      | 210147125              \n",
      " casosacumulado        | 0                      \n",
      " casosnovos            | 0                      \n",
      " obitosacumulado       | 0                      \n",
      " obitosnovos           | 0                      \n",
      " recuperadosnovos      | null                   \n",
      " emacompanhamentonovos | null                   \n",
      " interiormetropolitana |                        \n",
      "-RECORD 2---------------------------------------\n",
      " regiao                | Brasil                 \n",
      " estado                |                        \n",
      " municipio             |                        \n",
      " coduf                 | 76                     \n",
      " codmun                | null                   \n",
      " codregiaosaude        | null                   \n",
      " nomeregiaosaude       |                        \n",
      " data                  | 2020-02-26             \n",
      " semanaepi             | 9                      \n",
      " populacaotcu2019      | 210147125              \n",
      " casosacumulado        | 1                      \n",
      " casosnovos            | 1                      \n",
      " obitosacumulado       | 0                      \n",
      " obitosnovos           | 0                      \n",
      " recuperadosnovos      | null                   \n",
      " emacompanhamentonovos | null                   \n",
      " interiormetropolitana |                        \n",
      "-RECORD 3---------------------------------------\n",
      " regiao                | Brasil                 \n",
      " estado                |                        \n",
      " municipio             |                        \n",
      " coduf                 | 76                     \n",
      " codmun                | null                   \n",
      " codregiaosaude        | null                   \n",
      " nomeregiaosaude       |                        \n",
      " data                  | 2020-02-27             \n",
      " semanaepi             | 9                      \n",
      " populacaotcu2019      | 210147125              \n",
      " casosacumulado        | 1                      \n",
      " casosnovos            | 0                      \n",
      " obitosacumulado       | 0                      \n",
      " obitosnovos           | 0                      \n",
      " recuperadosnovos      | null                   \n",
      " emacompanhamentonovos | null                   \n",
      " interiormetropolitana |                        \n",
      "-RECORD 4---------------------------------------\n",
      " regiao                | Brasil                 \n",
      " estado                |                        \n",
      " municipio             |                        \n",
      " coduf                 | 76                     \n",
      " codmun                | null                   \n",
      " codregiaosaude        | null                   \n",
      " nomeregiaosaude       |                        \n",
      " data                  | 2020-02-28             \n",
      " semanaepi             | 9                      \n",
      " populacaotcu2019      | 210147125              \n",
      " casosacumulado        | 1                      \n",
      " casosnovos            | 0                      \n",
      " obitosacumulado       | 0                      \n",
      " obitosnovos           | 0                      \n",
      " recuperadosnovos      | null                   \n",
      " emacompanhamentonovos | null                   \n",
      " interiormetropolitana |                        \n",
      "-RECORD 5---------------------------------------\n",
      " regiao                | Brasil                 \n",
      " estado                |                        \n",
      " municipio             |                        \n",
      " coduf                 | 76                     \n",
      " codmun                | null                   \n",
      " codregiaosaude        | null                   \n",
      " nomeregiaosaude       |                        \n",
      " data                  | 2020-02-29             \n",
      " semanaepi             | 9                      \n",
      " populacaotcu2019      | 210147125              \n",
      " casosacumulado        | 2                      \n",
      " casosnovos            | 1                      \n",
      " obitosacumulado       | 0                      \n",
      " obitosnovos           | 0                      \n",
      " recuperadosnovos      | null                   \n",
      " emacompanhamentonovos | null                   \n",
      " interiormetropolitana |                        \n",
      "-RECORD 6---------------------------------------\n",
      " regiao                | Brasil                 \n",
      " estado                |                        \n",
      " municipio             |                        \n",
      " coduf                 | 76                     \n",
      " codmun                | null                   \n",
      " codregiaosaude        | null                   \n",
      " nomeregiaosaude       |                        \n",
      " data                  | 2020-03-01             \n",
      " semanaepi             | 10                     \n",
      " populacaotcu2019      | 210147125              \n",
      " casosacumulado        | 2                      \n",
      " casosnovos            | 0                      \n",
      " obitosacumulado       | 0                      \n",
      " obitosnovos           | 0                      \n",
      " recuperadosnovos      | null                   \n",
      " emacompanhamentonovos | null                   \n",
      " interiormetropolitana |                        \n",
      "-RECORD 7---------------------------------------\n",
      " regiao                | Brasil                 \n",
      " estado                |                        \n",
      " municipio             |                        \n",
      " coduf                 | 76                     \n",
      " codmun                | null                   \n",
      " codregiaosaude        | null                   \n",
      " nomeregiaosaude       |                        \n",
      " data                  | 2020-03-02             \n",
      " semanaepi             | 10                     \n",
      " populacaotcu2019      | 210147125              \n",
      " casosacumulado        | 2                      \n",
      " casosnovos            | 0                      \n",
      " obitosacumulado       | 0                      \n",
      " obitosnovos           | 0                      \n",
      " recuperadosnovos      | null                   \n",
      " emacompanhamentonovos | null                   \n",
      " interiormetropolitana |                        \n",
      "-RECORD 8---------------------------------------\n",
      " regiao                | Brasil                 \n",
      " estado                |                        \n",
      " municipio             |                        \n",
      " coduf                 | 76                     \n",
      " codmun                | null                   \n",
      " codregiaosaude        | null                   \n",
      " nomeregiaosaude       |                        \n",
      " data                  | 2020-03-03             \n",
      " semanaepi             | 10                     \n",
      " populacaotcu2019      | 210147125              \n",
      " casosacumulado        | 2                      \n",
      " casosnovos            | 0                      \n",
      " obitosacumulado       | 0                      \n",
      " obitosnovos           | 0                      \n",
      " recuperadosnovos      | null                   \n",
      " emacompanhamentonovos | null                   \n",
      " interiormetropolitana |                        \n",
      "-RECORD 9---------------------------------------\n",
      " regiao                | Brasil                 \n",
      " estado                |                        \n",
      " municipio             |                        \n",
      " coduf                 | 76                     \n",
      " codmun                | null                   \n",
      " codregiaosaude        | null                   \n",
      " nomeregiaosaude       |                        \n",
      " data                  | 2020-03-04             \n",
      " semanaepi             | 10                     \n",
      " populacaotcu2019      | 210147125              \n",
      " casosacumulado        | 3                      \n",
      " casosnovos            | 1                      \n",
      " obitosacumulado       | 0                      \n",
      " obitosnovos           | 0                      \n",
      " recuperadosnovos      | null                   \n",
      " emacompanhamentonovos | null                   \n",
      " interiormetropolitana |                        \n",
      "-RECORD 10--------------------------------------\n",
      " regiao                | Brasil                 \n",
      " estado                |                        \n",
      " municipio             |                        \n",
      " coduf                 | 76                     \n",
      " codmun                | null                   \n",
      " codregiaosaude        | null                   \n",
      " nomeregiaosaude       |                        \n",
      " data                  | 2020-03-05             \n",
      " semanaepi             | 10                     \n",
      " populacaotcu2019      | 210147125              \n",
      " casosacumulado        | 7                      \n",
      " casosnovos            | 4                      \n",
      " obitosacumulado       | 0                      \n",
      " obitosnovos           | 0                      \n",
      " recuperadosnovos      | null                   \n",
      " emacompanhamentonovos | null                   \n",
      " interiormetropolitana |                        \n",
      "-RECORD 11--------------------------------------\n",
      " regiao                | Brasil                 \n",
      " estado                |                        \n",
      " municipio             |                        \n",
      " coduf                 | 76                     \n",
      " codmun                | null                   \n",
      " codregiaosaude        | null                   \n",
      " nomeregiaosaude       |                        \n",
      " data                  | 2020-03-06             \n",
      " semanaepi             | 10                     \n",
      " populacaotcu2019      | 210147125              \n",
      " casosacumulado        | 13                     \n",
      " casosnovos            | 6                      \n",
      " obitosacumulado       | 0                      \n",
      " obitosnovos           | 0                      \n",
      " recuperadosnovos      | null                   \n",
      " emacompanhamentonovos | null                   \n",
      " interiormetropolitana |                        \n",
      "-RECORD 12--------------------------------------\n",
      " regiao                | Brasil                 \n",
      " estado                |                        \n",
      " municipio             |                        \n",
      " coduf                 | 76                     \n",
      " codmun                | null                   \n",
      " codregiaosaude        | null                   \n",
      " nomeregiaosaude       |                        \n",
      " data                  | 2020-03-07             \n",
      " semanaepi             | 10                     \n",
      " populacaotcu2019      | 210147125              \n",
      " casosacumulado        | 19                     \n",
      " casosnovos            | 6                      \n",
      " obitosacumulado       | 0                      \n",
      " obitosnovos           | 0                      \n",
      " recuperadosnovos      | null                   \n",
      " emacompanhamentonovos | null                   \n",
      " interiormetropolitana |                        \n",
      "-RECORD 13--------------------------------------\n",
      " regiao                | Brasil                 \n",
      " estado                |                        \n",
      " municipio             |                        \n",
      " coduf                 | 76                     \n",
      " codmun                | null                   \n",
      " codregiaosaude        | null                   \n",
      " nomeregiaosaude       |                        \n",
      " data                  | 2020-03-08             \n",
      " semanaepi             | 11                     \n",
      " populacaotcu2019      | 210147125              \n",
      " casosacumulado        | 25                     \n",
      " casosnovos            | 6                      \n",
      " obitosacumulado       | 0                      \n",
      " obitosnovos           | 0                      \n",
      " recuperadosnovos      | null                   \n",
      " emacompanhamentonovos | null                   \n",
      " interiormetropolitana |                        \n",
      "-RECORD 14--------------------------------------\n",
      " regiao                | Brasil                 \n",
      " estado                |                        \n",
      " municipio             |                        \n",
      " coduf                 | 76                     \n",
      " codmun                | null                   \n",
      " codregiaosaude        | null                   \n",
      " nomeregiaosaude       |                        \n",
      " data                  | 2020-03-09             \n",
      " semanaepi             | 11                     \n",
      " populacaotcu2019      | 210147125              \n",
      " casosacumulado        | 25                     \n",
      " casosnovos            | 0                      \n",
      " obitosacumulado       | 0                      \n",
      " obitosnovos           | 0                      \n",
      " recuperadosnovos      | null                   \n",
      " emacompanhamentonovos | null                   \n",
      " interiormetropolitana |                        \n",
      "-RECORD 15--------------------------------------\n",
      " regiao                | Brasil                 \n",
      " estado                |                        \n",
      " municipio             |                        \n",
      " coduf                 | 76                     \n",
      " codmun                | null                   \n",
      " codregiaosaude        | null                   \n",
      " nomeregiaosaude       |                        \n",
      " data                  | 2020-03-10             \n",
      " semanaepi             | 11                     \n",
      " populacaotcu2019      | 210147125              \n",
      " casosacumulado        | 34                     \n",
      " casosnovos            | 9                      \n",
      " obitosacumulado       | 0                      \n",
      " obitosnovos           | 0                      \n",
      " recuperadosnovos      | null                   \n",
      " emacompanhamentonovos | null                   \n",
      " interiormetropolitana |                        \n",
      "-RECORD 16--------------------------------------\n",
      " regiao                | Brasil                 \n",
      " estado                |                        \n",
      " municipio             |                        \n",
      " coduf                 | 76                     \n",
      " codmun                | null                   \n",
      " codregiaosaude        | null                   \n",
      " nomeregiaosaude       |                        \n",
      " data                  | 2020-03-11             \n",
      " semanaepi             | 11                     \n",
      " populacaotcu2019      | 210147125              \n",
      " casosacumulado        | 52                     \n",
      " casosnovos            | 18                     \n",
      " obitosacumulado       | 0                      \n",
      " obitosnovos           | 0                      \n",
      " recuperadosnovos      | null                   \n",
      " emacompanhamentonovos | null                   \n",
      " interiormetropolitana |                        \n",
      "-RECORD 17--------------------------------------\n",
      " regiao                | Brasil                 \n",
      " estado                |                        \n",
      " municipio             |                        \n",
      " coduf                 | 76                     \n",
      " codmun                | null                   \n",
      " codregiaosaude        | null                   \n",
      " nomeregiaosaude       |                        \n",
      " data                  | 2020-03-12             \n",
      " semanaepi             | 11                     \n",
      " populacaotcu2019      | 210147125              \n",
      " casosacumulado        | 77                     \n",
      " casosnovos            | 25                     \n",
      " obitosacumulado       | 0                      \n",
      " obitosnovos           | 0                      \n",
      " recuperadosnovos      | null                   \n",
      " emacompanhamentonovos | null                   \n",
      " interiormetropolitana |                        \n",
      "-RECORD 18--------------------------------------\n",
      " regiao                | Brasil                 \n",
      " estado                |                        \n",
      " municipio             |                        \n",
      " coduf                 | 76                     \n",
      " codmun                | null                   \n",
      " codregiaosaude        | null                   \n",
      " nomeregiaosaude       |                        \n",
      " data                  | 2020-03-13             \n",
      " semanaepi             | 11                     \n",
      " populacaotcu2019      | 210147125              \n",
      " casosacumulado        | 98                     \n",
      " casosnovos            | 21                     \n",
      " obitosacumulado       | 0                      \n",
      " obitosnovos           | 0                      \n",
      " recuperadosnovos      | null                   \n",
      " emacompanhamentonovos | null                   \n",
      " interiormetropolitana |                        \n",
      "-RECORD 19--------------------------------------\n",
      " regiao                | Brasil                 \n",
      " estado                |                        \n",
      " municipio             |                        \n",
      " coduf                 | 76                     \n",
      " codmun                | null                   \n",
      " codregiaosaude        | null                   \n",
      " nomeregiaosaude       |                        \n",
      " data                  | 2020-03-14             \n",
      " semanaepi             | 11                     \n",
      " populacaotcu2019      | 210147125              \n",
      " casosacumulado        | 121                    \n",
      " casosnovos            | 23                     \n",
      " obitosacumulado       | 0                      \n",
      " obitosnovos           | 0                      \n",
      " recuperadosnovos      | null                   \n",
      " emacompanhamentonovos | null                   \n",
      " interiormetropolitana |                        \n",
      "only showing top 20 rows\n",
      "\n"
     ]
    }
   ],
   "source": [
    "df.show(n=20, truncate=False, vertical=True )"
   ]
  },
  {
   "cell_type": "code",
   "execution_count": null,
   "metadata": {},
   "outputs": [],
   "source": [
    "df.printSchema()"
   ]
  },
  {
   "cell_type": "markdown",
   "metadata": {},
   "source": [
    "df.na.fill(0, [\"codmun\"]).show()\n",
    "\n",
    "df.na.fill(value=0,subset=[\"codmun\"]).show()"
   ]
  },
  {
   "cell_type": "code",
   "execution_count": null,
   "metadata": {},
   "outputs": [],
   "source": [
    "df = df.na.fill(value=0)"
   ]
  },
  {
   "cell_type": "markdown",
   "metadata": {},
   "source": [
    "# register as a temporary view [sql]\n",
    "df.createOrReplaceTempView(\"df_view\")"
   ]
  },
  {
   "cell_type": "markdown",
   "metadata": {},
   "source": [
    "df.write.partitionBy(\"codmun\") \\\n",
    "        .mode(\"append\") \\\n",
    "        .save(\"hdfs://namenode:8020/datasus/covid19_particionada_codmun2\")"
   ]
  },
  {
   "cell_type": "markdown",
   "metadata": {},
   "source": [
    "df.write.save(\"hdfs://namenode:8020/datasus/covid19_particionada_codmun3\")"
   ]
  },
  {
   "cell_type": "markdown",
   "metadata": {
    "scrolled": false
   },
   "source": [
    "df.write.partitionBy(\"codmun\").saveAsTable(\"covid19_particionada_codmun\")"
   ]
  },
  {
   "cell_type": "markdown",
   "metadata": {},
   "source": [
    "spark.sql(\"SELECT codmun,count FROM df_view\")"
   ]
  },
  {
   "cell_type": "code",
   "execution_count": null,
   "metadata": {
    "scrolled": true
   },
   "outputs": [],
   "source": [
    "topic_string = df.select(\"regiao\",\"coduf\",\"codmun\")\n",
    "topic_string.show(truncate=False)"
   ]
  },
  {
   "cell_type": "code",
   "execution_count": null,
   "metadata": {},
   "outputs": [],
   "source": [
    "sqlContext.setConf(\"hive.exec.dynamic.partition\", \"true\")\n",
    "sqlContext.setConf(\"hive.exec.dynamic.partition.mode\", \"nonstrict\")"
   ]
  },
  {
   "cell_type": "code",
   "execution_count": null,
   "metadata": {},
   "outputs": [],
   "source": [
    "df.write.partitionBy(\"codmun\") \\\n",
    "        .mode(\"append\") \\\n",
    "        .saveAsTable(\"covid19_particionada_codmun\")"
   ]
  },
  {
   "cell_type": "code",
   "execution_count": null,
   "metadata": {},
   "outputs": [],
   "source": [
    "spark.sql(\"SELECT * FROM covid19 c19\").show()"
   ]
  },
  {
   "cell_type": "markdown",
   "metadata": {},
   "source": [
    "# primeira visualização"
   ]
  },
  {
   "cell_type": "code",
   "execution_count": 13,
   "metadata": {},
   "outputs": [
    {
     "name": "stdout",
     "output_type": "stream",
     "text": [
      "+----------+--------+---------------------+--------------------------+\n",
      "|      data|count(1)|sum(Recuperadosnovos)|sum(emAcompanhamentoNovos)|\n",
      "+----------+--------+---------------------+--------------------------+\n",
      "|2020-02-25|       1|                 null|                      null|\n",
      "|2020-02-26|       1|                 null|                      null|\n",
      "|2020-02-27|       1|                 null|                      null|\n",
      "|2020-02-28|       1|                 null|                      null|\n",
      "|2020-02-29|       1|                 null|                      null|\n",
      "|2020-03-01|       1|                 null|                      null|\n",
      "|2020-03-02|       1|                 null|                      null|\n",
      "|2020-03-03|       1|                 null|                      null|\n",
      "|2020-03-04|       1|                 null|                      null|\n",
      "|2020-03-05|       1|                 null|                      null|\n",
      "|2020-03-06|       1|                 null|                      null|\n",
      "|2020-03-07|       1|                 null|                      null|\n",
      "|2020-03-08|       1|                 null|                      null|\n",
      "|2020-03-09|       1|                 null|                      null|\n",
      "|2020-03-10|       1|                 null|                      null|\n",
      "|2020-03-11|       1|                 null|                      null|\n",
      "|2020-03-12|       1|                 null|                      null|\n",
      "|2020-03-13|       1|                 null|                      null|\n",
      "|2020-03-14|       1|                 null|                      null|\n",
      "|2020-03-15|       1|                 null|                      null|\n",
      "|2020-03-16|       1|                 null|                      null|\n",
      "|2020-03-17|       1|                 null|                      null|\n",
      "|2020-03-18|       1|                 null|                      null|\n",
      "|2020-03-19|       1|                 null|                      null|\n",
      "|2020-03-20|       1|                 null|                      null|\n",
      "|2020-03-21|       1|                 null|                      null|\n",
      "|2020-03-22|       1|                 null|                      null|\n",
      "|2020-03-23|       1|                 null|                      null|\n",
      "|2020-03-24|       1|                 null|                      null|\n",
      "|2020-03-25|       1|                 null|                      null|\n",
      "|2020-03-26|       1|                 null|                      null|\n",
      "|2020-03-27|       1|                 null|                      null|\n",
      "|2020-03-28|       1|                 null|                      null|\n",
      "|2020-03-29|       1|                 null|                      null|\n",
      "|2020-03-30|       1|                 null|                      null|\n",
      "|2020-03-31|       1|                 null|                      null|\n",
      "|2020-04-01|       1|                 null|                      null|\n",
      "|2020-04-02|       1|                 null|                      null|\n",
      "|2020-04-03|       1|                 null|                      null|\n",
      "|2020-04-04|       1|                 null|                      null|\n",
      "|2020-04-05|       1|                 null|                      null|\n",
      "|2020-04-06|       1|                 null|                      null|\n",
      "|2020-04-07|       1|                 null|                      null|\n",
      "|2020-04-08|       1|                 null|                      null|\n",
      "|2020-04-09|       1|                 null|                      null|\n",
      "|2020-04-10|       1|                 null|                      null|\n",
      "|2020-04-11|       1|                 null|                      null|\n",
      "|2020-04-12|       1|                 null|                      null|\n",
      "|2020-04-13|       1|                 null|                      null|\n",
      "|2020-04-14|       1|                 null|                      null|\n",
      "|2020-04-15|       1|                 null|                      null|\n",
      "|2020-04-16|       1|                 null|                      null|\n",
      "|2020-04-17|       1|                 null|                      null|\n",
      "|2020-04-18|       1|                 null|                      null|\n",
      "|2020-04-19|       1|                22130|                     14062|\n",
      "|2020-04-20|       1|                22991|                     15015|\n",
      "|2020-04-21|       1|                24325|                     16013|\n",
      "|2020-04-22|       1|                25318|                     17533|\n",
      "|2020-04-23|       1|                26573|                     19606|\n",
      "|2020-04-24|       1|                27655|                     21670|\n",
      "|2020-04-25|       1|                29160|                     25333|\n",
      "|2020-04-26|       1|                30152|                     27531|\n",
      "|2020-04-27|       1|                31142|                     30816|\n",
      "|2020-04-28|       1|                32544|                     34325|\n",
      "|2020-04-29|       1|                34132|                     38564|\n",
      "|2020-04-30|       1|                35935|                     43544|\n",
      "|2020-05-01|       1|                38039|                     47221|\n",
      "|2020-05-02|       1|                40937|                     48872|\n",
      "|2020-05-03|       1|                42991|                     51131|\n",
      "|2020-05-04|       1|                45186|                     55273|\n",
      "|2020-05-05|       1|                48221|                     58573|\n",
      "|2020-05-06|       1|                51370|                     65312|\n",
      "|2020-05-07|       1|                55350|                     70610|\n",
      "|2020-05-08|       1|                59297|                     76134|\n",
      "|2020-05-09|       1|                61685|                     83627|\n",
      "|2020-05-10|       1|                64957|                     86619|\n",
      "|2020-05-11|       1|                67384|                     89429|\n",
      "|2020-05-12|       1|                72597|                     92593|\n",
      "|2020-05-13|       1|                78424|                     97402|\n",
      "|2020-05-14|       1|                79479|                    109446|\n",
      "|2020-05-15|       1|                84970|                    118436|\n",
      "|2020-05-16|       1|                89672|                    127837|\n",
      "|2020-05-17|       1|                94122|                    130840|\n",
      "|2020-05-18|       1|               100459|                    136969|\n",
      "|2020-05-19|       1|               106794|                    146863|\n",
      "|2020-05-20|       1|               116683|                    156037|\n",
      "|2020-05-21|       1|               125960|                    164080|\n",
      "|2020-05-22|       1|               135430|                    174412|\n",
      "|2020-05-23|       1|               142587|                    182798|\n",
      "|2020-05-24|       1|               149911|                    190634|\n",
      "|2020-05-25|       1|               153833|                    197592|\n",
      "|2020-05-26|       1|               158593|                    208117|\n",
      "|2020-05-27|       1|               166647|                    219576|\n",
      "|2020-05-28|       1|               177604|                    233880|\n",
      "|2020-05-29|       1|               189476|                    247812|\n",
      "|2020-05-30|       1|               200892|                    268714|\n",
      "|2020-05-31|       1|               206555|                    278331|\n",
      "|2020-06-01|       1|               211080|                    285430|\n",
      "|2020-06-02|       1|               223638|                    300546|\n",
      "|2020-06-03|       1|               238617|                    312851|\n",
      "|2020-06-04|       1|               254963|                    325957|\n",
      "|2020-06-05|       1|               266940|                    343805|\n",
      "|2020-06-06|       1|               277149|                    359767|\n",
      "|2020-06-07|       1|               283952|                    371351|\n",
      "|2020-06-08|       1|               290040|                    380238|\n",
      "|2020-06-09|       1|               311064|                    390033|\n",
      "|2020-06-10|       1|               325395|                    407341|\n",
      "|2020-06-11|       1|               345595|                    416314|\n",
      "|2020-06-12|       1|               365063|                    421919|\n",
      "|2020-06-13|       1|               379245|                    428549|\n",
      "|2020-06-14|       1|               388492|                    435800|\n",
      "|2020-06-15|       1|               412252|                    432060|\n",
      "|2020-06-16|       1|               441729|                    436219|\n",
      "|2020-06-17|       1|               463474|                    445393|\n",
      "|2020-06-18|       1|               482102|                    448292|\n",
      "|2020-06-19|       1|               507200|                    476759|\n",
      "|2020-06-20|       1|               520734|                    496869|\n",
      "|2020-06-21|       1|               549386|                    485035|\n",
      "|2020-06-22|       1|               571649|                    483550|\n",
      "|2020-06-23|       1|               613345|                    479916|\n",
      "|2020-06-24|       1|               649908|                    484893|\n",
      "|2020-06-25|       1|               673729|                    499414|\n",
      "|2020-06-26|       1|               697526|                    521487|\n",
      "|2020-06-27|       1|               715905|                    540692|\n",
      "|2020-06-28|       1|               733848|                    552673|\n",
      "|2020-06-29|       1|               757462|                    552419|\n",
      "|2020-06-30|       1|               790040|                    552407|\n",
      "|2020-07-01|       1|               826866|                    561255|\n",
      "|2020-07-02|       1|               852816|                    582158|\n",
      "|2020-07-03|       1|               868372|                    607535|\n",
      "|2020-07-04|       1|               876359|                    636380|\n",
      "|2020-07-05|       1|               906286|                    631902|\n",
      "|2020-07-06|       1|               927292|                    630505|\n",
      "|2020-07-07|       1|               976977|                    624871|\n",
      "|2020-07-08|       1|              1020901|                    624295|\n",
      "|2020-07-09|       1|              1054043|                    632552|\n",
      "|2020-07-10|       1|              1078763|                    651666|\n",
      "|2020-07-11|       1|              1100873|                    667508|\n",
      "|2020-07-12|       1|              1123204|                    669377|\n",
      "|2020-07-13|       1|              1154837|                    657297|\n",
      "|2020-07-14|       1|              1209208|                    643483|\n",
      "|2020-07-15|       1|              1255564|                    635818|\n",
      "|2020-07-16|       1|              1296328|                    639135|\n",
      "|2020-07-17|       1|              1321036|                    647441|\n",
      "|2020-07-18|       1|              1342362|                    653726|\n",
      "|2020-07-19|       1|              1371229|                    647672|\n",
      "|2020-07-20|       1|              1409202|                    629324|\n",
      "|2020-07-21|       1|              1465970|                    612197|\n",
      "|2020-07-22|       1|              1532138|                    612605|\n",
      "|2020-07-23|       1|              1570237|                    633156|\n",
      "|2020-07-24|       1|              1592281|                    665847|\n",
      "|2020-07-25|       1|              1617480|                    690584|\n",
      "|2020-07-26|       1|              1634274|                    697813|\n",
      "|2020-07-27|       1|              1667667|                    687090|\n",
      "|2020-07-28|       1|              1721560|                    673092|\n",
      "|2020-07-29|       1|              1786753|                    675378|\n",
      "|2020-07-30|       1|              1824095|                    694744|\n",
      "|2020-07-31|       1|              1844051|                    725959|\n",
      "+----------+--------+---------------------+--------------------------+\n",
      "\n"
     ]
    }
   ],
   "source": [
    "spark.sql(\"SELECT data,count(1),sum(c19.Recuperadosnovos),sum(c19.emAcompanhamentoNovos) FROM covid19 c19 where c19.regiao like 'Brasil%' group by data order by data\").show(400)"
   ]
  },
  {
   "cell_type": "code",
   "execution_count": null,
   "metadata": {},
   "outputs": [],
   "source": [
    "spark.sql(\"SELECT c19.regiao,count(1) FROM covid19 c19 group by c19.regiao\").show()"
   ]
  },
  {
   "cell_type": "code",
   "execution_count": null,
   "metadata": {},
   "outputs": [],
   "source": [
    "spark.sql(\"SELECT c19.municipio,c19.estado,c19.codmun,c19.Recuperadosnovos,c19.emAcompanhamentoNovos FROM covid19 c19 where c19.codmun = 150300\").show(10000)"
   ]
  },
  {
   "cell_type": "code",
   "execution_count": null,
   "metadata": {},
   "outputs": [],
   "source": [
    "spark.sql(\"SELECT c19.municipio,count(1) FROM covid19 c19 group by c19.municipio\").show(10000)"
   ]
  },
  {
   "cell_type": "markdown",
   "metadata": {},
   "source": [
    "# segunda visualização"
   ]
  },
  {
   "cell_type": "code",
   "execution_count": null,
   "metadata": {},
   "outputs": [],
   "source": []
  }
 ],
 "metadata": {
  "celltoolbar": "Raw Cell Format",
  "kernelspec": {
   "display_name": "PySpark",
   "language": "python",
   "name": "pyspark"
  },
  "language_info": {
   "codemirror_mode": {
    "name": "ipython",
    "version": 3
   },
   "file_extension": ".py",
   "mimetype": "text/x-python",
   "name": "python",
   "nbconvert_exporter": "python",
   "pygments_lexer": "ipython3",
   "version": "3.6.10"
  }
 },
 "nbformat": 4,
 "nbformat_minor": 2
}
