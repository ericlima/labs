{
 "cells": [
  {
   "cell_type": "code",
   "execution_count": 1,
   "metadata": {},
   "outputs": [],
   "source": [
    "from pyspark.sql.functions import *"
   ]
  },
  {
   "cell_type": "code",
   "execution_count": 2,
   "metadata": {},
   "outputs": [],
   "source": [
    "topic_read = spark.read\\\n",
    "    .format(\"kafka\")\\\n",
    "    .option(\"kafka.bootstrap.servers\",\"kafka:9092\")\\\n",
    "    .option(\"subscribe\",\"topic-kvspark\")\\\n",
    "    .load()"
   ]
  },
  {
   "cell_type": "code",
   "execution_count": 3,
   "metadata": {},
   "outputs": [
    {
     "name": "stdout",
     "output_type": "stream",
     "text": [
      "root\n",
      " |-- key: binary (nullable = true)\n",
      " |-- value: binary (nullable = true)\n",
      " |-- topic: string (nullable = true)\n",
      " |-- partition: integer (nullable = true)\n",
      " |-- offset: long (nullable = true)\n",
      " |-- timestamp: timestamp (nullable = true)\n",
      " |-- timestampType: integer (nullable = true)\n",
      "\n"
     ]
    }
   ],
   "source": [
    "topic_read.printSchema()"
   ]
  },
  {
   "cell_type": "code",
   "execution_count": 13,
   "metadata": {},
   "outputs": [
    {
     "name": "stdout",
     "output_type": "stream",
     "text": [
      "+---+---------------+---------+--------------------+\n",
      "|key|          value|partition|           timestamp|\n",
      "+---+---------------+---------+--------------------+\n",
      "|  1|Carlos 1 : 1000|        1|2021-07-06 16:30:...|\n",
      "|  1|Carlos 2 : 2000|        1|2021-07-06 16:30:...|\n",
      "|  1|Carlos 3 : 3000|        1|2021-07-06 16:30:...|\n",
      "|  1|CArlos 4 : 4000|        1|2021-07-06 16:31:...|\n",
      "|  2|  ACM 1 : 10000|        0|2021-07-06 16:34:...|\n",
      "|  2|  ACM 2 : 20000|        0|2021-07-06 16:34:...|\n",
      "|  2|  ACM 3 : 30000|        0|2021-07-06 16:34:...|\n",
      "|  2|  ACM 4 : 40000|        0|2021-07-06 16:34:...|\n",
      "+---+---------------+---------+--------------------+\n",
      "\n",
      "None\n"
     ]
    }
   ],
   "source": [
    "topic_string = topic_read.select(col(\"key\").cast(\"string\"),col(\"value\").cast(\"string\"),\"partition\",\n",
    "                                \"timestamp\")\n",
    "print(topic_string.show())"
   ]
  },
  {
   "cell_type": "code",
   "execution_count": 5,
   "metadata": {},
   "outputs": [],
   "source": [
    "topic_read_stream = spark.readStream\\\n",
    "    .format(\"kafka\")\\\n",
    "    .option(\"kafka.bootstrap.servers\",\"kafka:9092\")\\\n",
    "    .option(\"subscribe\",\"topic-kvspark\")\\\n",
    "    .option(\"startingOffsets\",\"earliest\")\\\n",
    "    .load()"
   ]
  },
  {
   "cell_type": "code",
   "execution_count": 6,
   "metadata": {},
   "outputs": [
    {
     "name": "stdout",
     "output_type": "stream",
     "text": [
      "root\n",
      " |-- key: binary (nullable = true)\n",
      " |-- value: binary (nullable = true)\n",
      " |-- topic: string (nullable = true)\n",
      " |-- partition: integer (nullable = true)\n",
      " |-- offset: long (nullable = true)\n",
      " |-- timestamp: timestamp (nullable = true)\n",
      " |-- timestampType: integer (nullable = true)\n",
      "\n"
     ]
    }
   ],
   "source": [
    "topic_read_stream.printSchema()"
   ]
  },
  {
   "cell_type": "code",
   "execution_count": 7,
   "metadata": {},
   "outputs": [],
   "source": [
    "topic_string_stream = topic_read_stream.select(col(\"key\").cast(\"string\"),col(\"value\").cast(\"string\"))"
   ]
  },
  {
   "cell_type": "code",
   "execution_count": 8,
   "metadata": {},
   "outputs": [],
   "source": [
    "topic_string_stream_output = topic_string_stream.writeStream\\\n",
    "    .format(\"kafka\")\\\n",
    "    .option(\"kafka.bootstrap.servers\",\"kafka:9092\")\\\n",
    "    .option(\"topic\",\"topic-kvspark-output\")\\\n",
    "    .option(\"checkpointLocation\",\"/usr/adriano/kafka_checkpoint_kv_5\")\\\n",
    "    .trigger(continuous=\"5 second\")\\\n",
    "    .start()"
   ]
  },
  {
   "cell_type": "code",
   "execution_count": 9,
   "metadata": {},
   "outputs": [
    {
     "data": {
      "text/plain": [
       "{'message': 'Initializing sources',\n",
       " 'isDataAvailable': False,\n",
       " 'isTriggerActive': True}"
      ]
     },
     "execution_count": 9,
     "metadata": {},
     "output_type": "execute_result"
    }
   ],
   "source": [
    "topic_string_stream_output.status"
   ]
  },
  {
   "cell_type": "code",
   "execution_count": 10,
   "metadata": {},
   "outputs": [],
   "source": [
    "topic_read2 = spark.read\\\n",
    "    .format(\"kafka\")\\\n",
    "    .option(\"kafka.bootstrap.servers\",\"kafka:9092\")\\\n",
    "    .option(\"subscribe\",\"topic-kvspark-output\")\\\n",
    "    .load()"
   ]
  },
  {
   "cell_type": "code",
   "execution_count": 12,
   "metadata": {},
   "outputs": [
    {
     "name": "stdout",
     "output_type": "stream",
     "text": [
      "+---+---------------+\n",
      "|key|          value|\n",
      "+---+---------------+\n",
      "|  1|Carlos 1 : 1000|\n",
      "|  1|Carlos 2 : 2000|\n",
      "|  1|Carlos 3 : 3000|\n",
      "|  1|CArlos 4 : 4000|\n",
      "|  2|  ACM 1 : 10000|\n",
      "|  2|  ACM 2 : 20000|\n",
      "|  2|  ACM 3 : 30000|\n",
      "|  2|  ACM 4 : 40000|\n",
      "+---+---------------+\n",
      "\n"
     ]
    }
   ],
   "source": [
    "topic_string2 = topic_read2.select(col(\"key\").cast(\"string\"),\n",
    "                                   col(\"value\").cast(\"string\"))\n",
    "topic_string2.show()"
   ]
  },
  {
   "cell_type": "code",
   "execution_count": null,
   "metadata": {},
   "outputs": [],
   "source": []
  }
 ],
 "metadata": {
  "kernelspec": {
   "display_name": "PySpark",
   "language": "python",
   "name": "pyspark"
  },
  "language_info": {
   "codemirror_mode": {
    "name": "ipython",
    "version": 3
   },
   "file_extension": ".py",
   "mimetype": "text/x-python",
   "name": "python",
   "nbconvert_exporter": "python",
   "pygments_lexer": "ipython3",
   "version": "3.6.10"
  }
 },
 "nbformat": 4,
 "nbformat_minor": 2
}
