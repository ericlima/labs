{
 "cells": [
  {
   "cell_type": "code",
   "execution_count": 1,
   "metadata": {},
   "outputs": [],
   "source": [
    "from pyspark.sql.functions import *"
   ]
  },
  {
   "cell_type": "code",
   "execution_count": 2,
   "metadata": {},
   "outputs": [],
   "source": [
    "topic_read = spark.read\\\n",
    "    .format(\"kafka\")\\\n",
    "    .option(\"kafka.bootstrap.servers\",\"kafka:9092\")\\\n",
    "    .option(\"subscribe\",\"topic-spark\")\\\n",
    "    .load()"
   ]
  },
  {
   "cell_type": "code",
   "execution_count": 3,
   "metadata": {},
   "outputs": [
    {
     "name": "stdout",
     "output_type": "stream",
     "text": [
      "root\n",
      " |-- key: binary (nullable = true)\n",
      " |-- value: binary (nullable = true)\n",
      " |-- topic: string (nullable = true)\n",
      " |-- partition: integer (nullable = true)\n",
      " |-- offset: long (nullable = true)\n",
      " |-- timestamp: timestamp (nullable = true)\n",
      " |-- timestampType: integer (nullable = true)\n",
      "\n"
     ]
    }
   ],
   "source": [
    "topic_read.printSchema()"
   ]
  },
  {
   "cell_type": "code",
   "execution_count": 16,
   "metadata": {},
   "outputs": [
    {
     "name": "stdout",
     "output_type": "stream",
     "text": [
      "+----+-------------+---------+--------------------+\n",
      "| key|        value|partition|           timestamp|\n",
      "+----+-------------+---------+--------------------+\n",
      "|null|Carlos 2 : 20|        0|2021-07-06 16:16:...|\n",
      "|null|Carlos 4 : 40|        0|2021-07-06 16:16:...|\n",
      "|null|  ACM 2 : 200|        0|2021-07-06 16:22:...|\n",
      "|null|  ACM 4 : 400|        0|2021-07-06 16:22:...|\n",
      "|null|Carlos 1 : 10|        1|2021-07-06 16:16:...|\n",
      "|null|Carlos 3 : 30|        1|2021-07-06 16:16:...|\n",
      "|null|  ACM 1 : 100|        1|2021-07-06 16:22:...|\n",
      "|null|  ACM 3 : 300|        1|2021-07-06 16:22:...|\n",
      "+----+-------------+---------+--------------------+\n",
      "\n"
     ]
    }
   ],
   "source": [
    "topic_string = topic_read.select(col(\"key\").cast(\"string\"),col(\"value\").cast(\"string\"),\"partition\",\"timestamp\")\n",
    "topic_string.show()"
   ]
  },
  {
   "cell_type": "code",
   "execution_count": 5,
   "metadata": {},
   "outputs": [],
   "source": [
    "topic_read_stream = spark.readStream\\\n",
    "    .format(\"kafka\")\\\n",
    "    .option(\"kafka.bootstrap.servers\",\"kafka:9092\")\\\n",
    "    .option(\"subscribe\",\"topic-spark\")\\\n",
    "    .option(\"startingOffsets\",\"earliest\")\\\n",
    "    .load()"
   ]
  },
  {
   "cell_type": "code",
   "execution_count": 6,
   "metadata": {},
   "outputs": [
    {
     "name": "stdout",
     "output_type": "stream",
     "text": [
      "root\n",
      " |-- key: binary (nullable = true)\n",
      " |-- value: binary (nullable = true)\n",
      " |-- topic: string (nullable = true)\n",
      " |-- partition: integer (nullable = true)\n",
      " |-- offset: long (nullable = true)\n",
      " |-- timestamp: timestamp (nullable = true)\n",
      " |-- timestampType: integer (nullable = true)\n",
      "\n"
     ]
    }
   ],
   "source": [
    "topic_read_stream.printSchema()"
   ]
  },
  {
   "cell_type": "code",
   "execution_count": 7,
   "metadata": {},
   "outputs": [],
   "source": [
    "topic_string_stream = topic_read_stream.select(col(\"key\").cast(\"string\"),col(\"value\").cast(\"string\"))"
   ]
  },
  {
   "cell_type": "code",
   "execution_count": 8,
   "metadata": {},
   "outputs": [],
   "source": [
    "topic_string_stream_output = topic_string_stream.writeStream\\\n",
    "    .format(\"kafka\")\\\n",
    "    .option(\"kafka.bootstrap.servers\",\"kafka:9092\")\\\n",
    "    .option(\"topic\",\"topic-spark-output\")\\\n",
    "    .option(\"checkpointLocation\",\"/usr/adriano/kafka_checkpoint_skv_5\")\\\n",
    "    .trigger(continuous=\"5 second\")\\\n",
    "    .start()"
   ]
  },
  {
   "cell_type": "code",
   "execution_count": 9,
   "metadata": {},
   "outputs": [
    {
     "data": {
      "text/plain": [
       "{'message': 'Initializing sources',\n",
       " 'isDataAvailable': False,\n",
       " 'isTriggerActive': True}"
      ]
     },
     "execution_count": 9,
     "metadata": {},
     "output_type": "execute_result"
    }
   ],
   "source": [
    "topic_string_stream_output.status"
   ]
  },
  {
   "cell_type": "code",
   "execution_count": 12,
   "metadata": {},
   "outputs": [],
   "source": [
    "topic_read2 = spark.read\\\n",
    "    .format(\"kafka\")\\\n",
    "    .option(\"kafka.bootstrap.servers\",\"kafka:9092\")\\\n",
    "    .option(\"subscribe\",\"topic-spark-output\")\\\n",
    "    .load()"
   ]
  },
  {
   "cell_type": "code",
   "execution_count": 15,
   "metadata": {},
   "outputs": [
    {
     "name": "stdout",
     "output_type": "stream",
     "text": [
      "+----+-------------+\n",
      "| key|        value|\n",
      "+----+-------------+\n",
      "|null|Carlos 2 : 20|\n",
      "|null|Carlos 1 : 10|\n",
      "|null|Carlos 4 : 40|\n",
      "|null|Carlos 3 : 30|\n",
      "|null|  ACM 1 : 100|\n",
      "|null|  ACM 2 : 200|\n",
      "|null|  ACM 3 : 300|\n",
      "|null|  ACM 4 : 400|\n",
      "+----+-------------+\n",
      "\n"
     ]
    }
   ],
   "source": [
    "topic_string2 = topic_read2.select(col(\"key\").cast(\"string\"),\n",
    "                                   col(\"value\").cast(\"string\"))\n",
    "topic_string2.show()"
   ]
  },
  {
   "cell_type": "code",
   "execution_count": null,
   "metadata": {},
   "outputs": [],
   "source": []
  }
 ],
 "metadata": {
  "kernelspec": {
   "display_name": "PySpark",
   "language": "python",
   "name": "pyspark"
  },
  "language_info": {
   "codemirror_mode": {
    "name": "ipython",
    "version": 3
   },
   "file_extension": ".py",
   "mimetype": "text/x-python",
   "name": "python",
   "nbconvert_exporter": "python",
   "pygments_lexer": "ipython3",
   "version": "3.6.10"
  }
 },
 "nbformat": 4,
 "nbformat_minor": 2
}
